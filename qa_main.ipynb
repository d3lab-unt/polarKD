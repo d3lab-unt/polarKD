{
 "cells": [
  {
   "cell_type": "code",
   "execution_count": 31,
   "metadata": {
    "scrolled": true
   },
   "outputs": [],
   "source": [
    "#pip install langchain"
   ]
  },
  {
   "cell_type": "code",
   "execution_count": 33,
   "metadata": {},
   "outputs": [],
   "source": [
    "#pip install rapidocr-onnxruntime"
   ]
  },
  {
   "cell_type": "code",
   "execution_count": 35,
   "metadata": {
    "scrolled": true
   },
   "outputs": [],
   "source": [
    "#pip install langchain_community"
   ]
  },
  {
   "cell_type": "code",
   "execution_count": 37,
   "metadata": {
    "scrolled": true
   },
   "outputs": [],
   "source": [
    "#pip install langchain_huggingface"
   ]
  },
  {
   "cell_type": "code",
   "execution_count": 39,
   "metadata": {
    "scrolled": true
   },
   "outputs": [],
   "source": [
    "#pip install langchain_ollama"
   ]
  },
  {
   "cell_type": "code",
   "execution_count": 41,
   "metadata": {},
   "outputs": [],
   "source": [
    "#pip install pypdf"
   ]
  },
  {
   "cell_type": "code",
   "execution_count": 66,
   "metadata": {},
   "outputs": [],
   "source": [
    "import pdb"
   ]
  },
  {
   "cell_type": "code",
   "execution_count": 68,
   "metadata": {},
   "outputs": [],
   "source": [
    "#pip install faiss-cpu"
   ]
  },
  {
   "cell_type": "code",
   "execution_count": 90,
   "metadata": {
    "editable": true,
    "slideshow": {
     "slide_type": ""
    },
    "tags": []
   },
   "outputs": [],
   "source": [
    "import os\n",
    "from langchain.chains import create_retrieval_chain\n",
    "from langchain_community.document_loaders import DirectoryLoader, PyPDFLoader\n",
    "from langchain.chains.combine_documents import create_stuff_documents_chain\n",
    "from langchain_huggingface import HuggingFaceEmbeddings\n",
    "from langchain_community.vectorstores import FAISS \n",
    "from langchain.text_splitter import RecursiveCharacterTextSplitter\n",
    "from langchain_ollama.llms import OllamaLLM\n",
    "from langchain_core.prompts import ChatPromptTemplate\n",
    "from langchain.chains import LLMChain\n"
   ]
  },
  {
   "cell_type": "code",
   "execution_count": 92,
   "metadata": {
    "editable": true,
    "slideshow": {
     "slide_type": ""
    },
    "tags": []
   },
   "outputs": [],
   "source": [
    "def load_documents():\n",
    "    root_folder = \"/Users/harinivaranasi/Desktop/Research\"\n",
    "    \n",
    "    loader = DirectoryLoader(\n",
    "        path=root_folder,\n",
    "        glob=\"*.pdf\",\n",
    "        loader_cls=PyPDFLoader,\n",
    "        loader_kwargs={\"extract_images\": True},\n",
    "        recursive=True   \n",
    "    )\n",
    "    \n",
    "    documents = loader.load()\n",
    "    breakpoint()\n",
    "    return documents"
   ]
  },
  {
   "cell_type": "code",
   "execution_count": 94,
   "metadata": {
    "editable": true,
    "scrolled": true,
    "slideshow": {
     "slide_type": ""
    },
    "tags": []
   },
   "outputs": [
    {
     "data": {
      "text/plain": [
       "[Document(metadata={'producer': 'pdfTeX-1.40.21', 'creator': 'LaTeX with hyperref', 'creationdate': '2023-02-07T01:49:05+00:00', 'author': '', 'keywords': '', 'moddate': '2023-02-07T01:49:05+00:00', 'ptex.fullbanner': 'This is pdfTeX, Version 3.14159265-2.6-1.40.21 (TeX Live 2020) kpathsea version 6.3.2', 'subject': '', 'title': '', 'trapped': '/False', 'source': '/Users/harinivaranasi/Desktop/Research/sample_document5.pdf', 'total_pages': 26, 'page': 0, 'page_label': '1'}, page_content='Dynamic Arctic weather variability and connectivity\\nJun Meng,1, 2 Jingfang Fan,3, 2, ∗ Uma S Bhatt, 4 and J ¨urgen Kurths2, 4, 5\\n1School of Science, Beijing University of Posts and Telecommunications, Beijing 100876, China\\n2Potsdam Institute for Climate Impact Research, Potsdam 14412, Germany\\n3School of Systems Science/Institute of Nonequilibrium Systems,\\nBeijing Normal University, Beijing 100875, China\\n4Geophysical Institute, University of Alaska Fairbanks, Fairbanks, AK 99775, USA\\n5Institute of Physics, Humboldt-University, Berlin 10099, Germany\\n(Dated: February 7, 2023)\\nAbstract\\nThe rapidly shrinking Arctic sea ice is changing weather patterns and disrupting the balance of nature.\\nDynamics of Arctic weather variability (WV) plays a crucial role in weather forecasting and is closely re-\\nlated to extreme weather events. Yet, assessing and quantifying the WV for both local Arctic regions and\\nits planetary impacts under anthropogenic climate change is still unknown. Here, we develop a complexity-\\nbased approach to systematically evaluate and analyze the dynamic behaviour of WV . We reveal that the\\nWV within and around the Arctic is statistically correlated to the Arctic Oscillation at the intraseasonal time\\nscale. We further ﬁnd that the variability of the daily Arctic sea ice is increasing due to its dramatic decline\\nunder a warming climate. Unstable Arctic weather conditions can disturb regional weather patterns through\\natmospheric teleconnection pathways, resulting in higher risk to human activities and greater weather fore-\\ncast uncertainty. A multivariate climate network analysis reveals the existence of such teleconnections and\\nimplies a positive feedback loop between the Arctic and global weather instabilities. This enhances the\\nmechanistic understanding of the inﬂuence of Arctic ampliﬁcation on mid-latitude severe weather. Our\\nframework provides a fresh perspective on the linkage of complexity science, WV and the Arctic.\\n∗ jingfang@bnu.edu.cn\\n1\\narXiv:2302.01960v1  [physics.ao-ph]  3 Feb 2023'),\n",
       " Document(metadata={'producer': 'pdfTeX-1.40.21', 'creator': 'LaTeX with hyperref', 'creationdate': '2023-02-07T01:49:05+00:00', 'author': '', 'keywords': '', 'moddate': '2023-02-07T01:49:05+00:00', 'ptex.fullbanner': 'This is pdfTeX, Version 3.14159265-2.6-1.40.21 (TeX Live 2020) kpathsea version 6.3.2', 'subject': '', 'title': '', 'trapped': '/False', 'source': '/Users/harinivaranasi/Desktop/Research/sample_document5.pdf', 'total_pages': 26, 'page': 1, 'page_label': '2'}, page_content='Arctic sea ice is declining and thinning at an accelerating rate due to anthropogenic climate\\nchange [1, 2]. The warming trend is more prominent in the Arctic and is double of the global\\naverage or even greater regionally [3], a phenomenon known as Arctic ampliﬁcation (AA) [4–6].\\nThe Arctic sea ice conditions can affect the Arctic ecosystem, wildlife, hunting and shipping, ex-\\nploration of nature resources and more [7–9]. As one crucial component of the complex Earth\\nsystem [10, 11], changes in Arctic sea ice are found to have statistical and dynamical connec-\\ntions with regional as well as remote climatic impacts [12–15] (as shown in Fig. 1) through both\\nlarge-scale atmospheric and oceanic circulations [16–20]. The rapid shrinking of the ice cover has\\nattracted much attention about the Arctic sea ice teleconnections and predictions from seasonal-\\nto-decadal time scales in recent years [21–24]. However, the understanding about its variability\\non weather time scales is still in its infancy [25, 26], although it is crucial for weather forecasting,\\nthe safety of commercial and subsistence maritime activities, the survival of polar mammals and\\nthe beneﬁt of polar economics. The impact of day-to-day Arctic sea ice variations has been un-\\nderestimated in most of the climate models [27]. To ﬁll this gap, here we adopt complexity-based\\napproaches and the climate network framework to investigate the daily WV of the Arctic sea ice\\nand its connections to climate phenomena on different spatio-temporal scales, including the Arctic\\nOscillation (AO), climate change and local weather conditions even in regions faraway.\\nComplexity science employs the mathematical representation of network science and provides\\na powerful tool to study the structure, dynamics and function of complex systems [28]. The climate\\nsystem is a typical complex adaptive system due to its nonlinear interactions and feedback loops\\nbetween and within different layers and components. In recent years, network science has been\\nimplemented to the climate system to construct the climate network (CN) [29]. The CN is a novel\\ntool to unveil and predict various important climate mechanisms and phenomena [30], including\\nforecasting of the El Ni˜no Southern Oscillation [31, 32] and Indian summer monsoon rainfall [33,\\n34], the global pattern of extreme-rainfall [35], the changes of global-scale tropical atmospheric\\ncirculation under global warming [36], teleconnections among tipping elements in the Earth system\\n[37], the Indian Ocean Dipole [38] and so on.\\nThe AO is one of the major modes of atmospheric circulation over the mid-to-high latitudes of\\nthe Northern Hemisphere (NH) [39], which inﬂuences climate patterns in Eurasia, North Amer-\\nica, Eastern Canada, North Africa, and the Middle East, especially during boreal winter [40–42].\\n2'),\n",
       " Document(metadata={'producer': 'pdfTeX-1.40.21', 'creator': 'LaTeX with hyperref', 'creationdate': '2023-02-07T01:49:05+00:00', 'author': '', 'keywords': '', 'moddate': '2023-02-07T01:49:05+00:00', 'ptex.fullbanner': 'This is pdfTeX, Version 3.14159265-2.6-1.40.21 (TeX Live 2020) kpathsea version 6.3.2', 'subject': '', 'title': '', 'trapped': '/False', 'source': '/Users/harinivaranasi/Desktop/Research/sample_document5.pdf', 'total_pages': 26, 'page': 2, 'page_label': '3'}, page_content='The AO index is deﬁned as the leading empirical orthogonal function of NH sea level pressure\\nanomalies from latitudes 20◦ N to 90◦ N and is characterized by the back-and-forth shifting of\\natmospheric pressure between the Arctic and the mid-latitudes. During the positive AO phases,\\nthe surface pressure is lower-than-average in the Arctic region and the jet stream shifts northward\\naccompanied by a poleward shift of the storm track [43]. Correspondingly, we ﬁnd that both the\\nsea ice and air temperature in mid-to-high latitudes of the NH changes more rapidly (i.e., with\\nblueshifted frequency spectrum) paired with more stable weather conditions (i.e., redshifted) in\\nregions further south during the AO positive phases, in contrast to the AO negative phases when\\npressure north of the Arctic Circle is higher than normal. To quantify the blue/red-shift effect\\nand its geographic distribution indicating increased/reduced WV , here we introduce two novel\\nmathematical techniques: the advanced autocorrelation function method, i.e., WACF and the ad-\\nvanced power spectrum method , i.e., WPS (see Methods). This way enables us to ﬁnd that the\\nday-to-day variability of ice cover for a large area of the Arctic is increasing due to the dramatic\\nmelting of the sea ice [44], which indicates more enhanced risks for severe weather under climate\\nchange [45–48]. This may also increase the probability of unstable weather conditions globally\\nthrough atmospheric teleconnections between the Arctic and the global climate systems (see links\\nshown in Fig. 1). Finally, we statistically verify the existence of such teleconnections between the\\nArctic sea ice and weather conditions in remote global regions via a multivariate climate network\\nframework. Such teleconnections can result in a positive feedback loop of WV between the Arctic\\nand the rest (see Fig. 1) and contribute to understanding the mechanisms of linkage between the\\nAA and mid-latitude weather [49]. The presented results and methodology not only facilitate a\\nquantitative risk assessment of extreme weather events (see Fig. S1), but also reveal the existence\\nof interaction or synchronization paths among regional and global climate components.\\nRESULTS\\nLinkage of the weather variability and the AO\\nThe WV refers to the irregularity/predictability of the climate data at weather time scales (i.e.,\\nhours - days). There are various ways to evaluate the data variability/irregularity, such as the en-\\n3'),\n",
       " Document(metadata={'producer': 'pdfTeX-1.40.21', 'creator': 'LaTeX with hyperref', 'creationdate': '2023-02-07T01:49:05+00:00', 'author': '', 'keywords': '', 'moddate': '2023-02-07T01:49:05+00:00', 'ptex.fullbanner': 'This is pdfTeX, Version 3.14159265-2.6-1.40.21 (TeX Live 2020) kpathsea version 6.3.2', 'subject': '', 'title': '', 'trapped': '/False', 'source': '/Users/harinivaranasi/Desktop/Research/sample_document5.pdf', 'total_pages': 26, 'page': 3, 'page_label': '4'}, page_content='tropy [50–52], the detrended ﬂuctuation analysis [53, 54], the correlation dimension [55], the\\nlyapunov exponents analysis [56], etc. However, most of them would be problematic, biased or\\ninvalid when dealing with short and noisy data, such as the weather data. The standard devia-\\ntion (SD) is an effective technique to quantify the dispersion of data, but not a good measure for\\nirregularity, e.g., the SD of a randomly shufﬂed data is the same as the original. Besides, the auto-\\ncorrelation function describes how fast the self-similarity of a variable decays with time [57] and\\nthe power spectral analysis [58] allows us to discover periodicity in the data. Yet, a systematic\\nevaluation of the auto-correlation and the power spectrum as well as their dynamic evolution for\\nnon-stationary climate data are still lacking.\\nTherefore, here we introduce two mathematical functions: WACF and WPS (see Methods for\\ndetails) to quantify the WV in and around the Arctic in a given month, as well as its dynamic\\nbehavior during the period from Jan. 1980 to Dec. 2019. For a given time series, the physical\\nmeanings of these metrics are: higher values of the WACF stands for weaker short-term mem-\\nory; while higher values of the WPS indicates faster changes. In particular, to better understand\\ntheir physical meanings, we construct various nonlinear time series (as shown in Fig. 2a) via the\\nfollowing dynamical equations,\\nxt = cos (2πt/20), (1)\\nyt = cos (2πt/10), (2)\\nzx\\nt = 0.2xt + 0.8ut, (3)\\nzy\\nt = 0.2yt + 0.8ut, (4)\\nwhere t ∈[0,1000], ut is the nonlinear logistic function as: ut+1 = µut(1 −ut). Here we set\\nthe parameter µ = 3.8 and u0 = 0.01, i.e., it generates a chaotic behavior [59]. Mathematically,\\nEqs. (1) and (2) are two periodic functions but with different periods20 and 10, respectively; while,\\nEqs. (3) and (4) consist of a periodic term and a chaotic term (Fig. 2a). Therefore, strictly speaking,\\nthe value of WACF for zx\\nt (zy\\nt) is higher than xt (yt), i.e., weaker short-term memory, due to the\\nchaotic term ut; the value of WPS for yt (zy\\nt) is higher than xt (yt), i.e., faster changes, due to the\\nperiodic term with different periods. One should note that a segment of unstable data is usually\\nchanging faster, with both highWACF and WPS, e.g., Eqs. (3) and (4). While a segment of quickly\\nchanging data is not necessarily irregular, such as high frequency periodic data, with high WPS\\n4'),\n",
       " Document(metadata={'producer': 'pdfTeX-1.40.21', 'creator': 'LaTeX with hyperref', 'creationdate': '2023-02-07T01:49:05+00:00', 'author': '', 'keywords': '', 'moddate': '2023-02-07T01:49:05+00:00', 'ptex.fullbanner': 'This is pdfTeX, Version 3.14159265-2.6-1.40.21 (TeX Live 2020) kpathsea version 6.3.2', 'subject': '', 'title': '', 'trapped': '/False', 'source': '/Users/harinivaranasi/Desktop/Research/sample_document5.pdf', 'total_pages': 26, 'page': 4, 'page_label': '5'}, page_content='but low WACF, as Eq. (2). We extract 31 (i.e., the maximal length of one month in the climate\\ndata) consecutive data points from each of the samples and perform WACF and WPS analysis on\\nthe extracted subsets. All results presented in Fig. 2b and c, are consistent with our theory, which\\nindicates that our two functions can be used as effective tools to describe the variability (both\\ndisorder and frequency) for given time series.\\nNext, we apply WACF and WPS to quantify the Arctic sea ice WV based on the sea ice cover\\ndataset (daily, 1979-2019, see DATA for details). Our results are shown in Figs. 2d-h. A positive\\nvalue of r denoted by blue in Figs. 2d or e, indicates positive correlation between the annual\\nmean of WACF or WPS with the AO index. We observe that both WACF and WPS tend to be\\nhigher, i.e., indicating faster and more irregular day-to-day changes of ice cover, during the AO\\npositive phases than AO negative phases, in some parts of the Arctic region, such as, the Canadian\\nArchipelago, Beaufort Sea, and the Central Arctic. To illustrate the effect of the AO on WPS, we\\nshow that the power spectrum of Arctic sea ice during the AO positive phase, e.g., Jan. 1989,\\nis signiﬁcantly blueshifted comparing to that during the AO negative phase, e.g., Jan. 2010 (see\\nFig. 2f). To illustrate the effect of the AO on WACF, we show that the timeseries of AO index and\\nWACF are signiﬁcantly synchronized during the period 1980-2019 (as shown in Fig. 2g and h).\\nMoreover, we uncover that the climatic effects of the AO are more prominent in winter-spring than\\nin summer-autumn (see Figs. S2 and S3).\\nThe underlying physical mechanism is related to the typical atmospheric character of the AO,\\nas well as the close interactions between the Arctic sea ice and the surface atmosphere. During\\nthe positive phases of AO, the jet stream shifts northward and the storm tracks are located farther\\nnorth than during the AO negative phases [60], see Fig. S4. This results in more unstable regional\\nweather in mid-to-high latitudes of the NH, and yields higher WACF and WPS of the air temper-\\nature data, see Fig. 3 and Figs. S5-S8. In contrast, the WACF and WPS of the air temperature in\\nthe mid-latitudes of the NH increase with more outbreaks of signiﬁcant weather events (e.g., cold\\nevents, frozen precipitation and blocking days) [60] as the zonal wind weakens during the negative\\nAO phases, see Fig. 3 and Figs. S5-S8. In particular, as shown in Figs. S5-S8, there are even\\nsigniﬁcant connections between the AO and the WV in some regions of the Southern Hemisphere.\\nThe WACF and WPS analysis provides an additional way to describe the quantitative response\\nof both the Arctic sea ice and the atmosphere to the AO, thus could be used to assess the risk of\\n5'),\n",
       " Document(metadata={'producer': 'pdfTeX-1.40.21', 'creator': 'LaTeX with hyperref', 'creationdate': '2023-02-07T01:49:05+00:00', 'author': '', 'keywords': '', 'moddate': '2023-02-07T01:49:05+00:00', 'ptex.fullbanner': 'This is pdfTeX, Version 3.14159265-2.6-1.40.21 (TeX Live 2020) kpathsea version 6.3.2', 'subject': '', 'title': '', 'trapped': '/False', 'source': '/Users/harinivaranasi/Desktop/Research/sample_document5.pdf', 'total_pages': 26, 'page': 5, 'page_label': '6'}, page_content='extreme events in mid-to-high latitudes of the NH.\\nIncreased irregularity of Arctic sea ice cover\\nIn the following, our results shown in Fig. 4 indicate that the sea ice cover in a large area of the\\nArctic, including the East Siberian, the Beaufort Sea and the Central Arctic, where the ice thickness\\ndecrease is dramatic (as shown in Fig. S9), has changed more rapidly and irregularly over the past\\n40 years (1980-2019). That is since both values of theWACF and WPS are signiﬁcantly increasing.\\nThe observed enhancing trend of WV may be attributed to the following two reasons: One is\\nrelated to the development of remote sensing and data analyzing technology, resulting in better data\\nresolution and accuracy over the data record; the other reason is the rapid decline of multi-year ice\\ncover, due to the dramatic increase of air temperature [61]. The multi-year sea ice has been deﬁned\\nas the ice that survives at least one summer melt and represents the thick sea ice cover, while the\\nﬁrst-year ice refers to the ice that has no more than one-year’s growth. As more of perennial ice\\ncover is replaced by younger and thinner ice cover, the regional ice cover becomes more fragile and\\nvulnerable to ﬂuctuations of air temperature or some other forces [44]. Therefore, local interactions\\nbetween the sea ice and atmosphere would be enhanced and the weather in the Arctic and remote\\nglobal regions may affect each other more easily through potential tele-connected pathways (e.g.,\\nFig. 5), which may increase the WV associated with the short-term weather predictability.\\nIn addition, we observe relatively more areas with a signiﬁcant trend of enhanced instability\\nin the melt season under global warming (see Fig. 4a). This is because during the melt season\\n(Apr.-Aug.), the sea ice declines and ﬂuctuates more dramatically than in other seasons when the\\nmonthly average ice cover extent (the area of ocean with at least 15% sea ice, marked by the blue\\ncurve in Fig. 4a) reaches its maximum/minimum. An intensiﬁcation of the summer Arctic storm\\nactivity is also likely to happen as the land-sea thermal contrast increases under global warming\\n[62–64], which can increase the WV both in the ocean and atmosphere.\\n6'),\n",
       " Document(metadata={'producer': 'pdfTeX-1.40.21', 'creator': 'LaTeX with hyperref', 'creationdate': '2023-02-07T01:49:05+00:00', 'author': '', 'keywords': '', 'moddate': '2023-02-07T01:49:05+00:00', 'ptex.fullbanner': 'This is pdfTeX, Version 3.14159265-2.6-1.40.21 (TeX Live 2020) kpathsea version 6.3.2', 'subject': '', 'title': '', 'trapped': '/False', 'source': '/Users/harinivaranasi/Desktop/Research/sample_document5.pdf', 'total_pages': 26, 'page': 6, 'page_label': '7'}, page_content='Arctic-global teleconnection patterns\\nNext, we propose the multivariate climate network approach to statistically reveal the poten-\\ntial teleconnection patterns between the Arctic sea ice (Fig. S10a) and the global air temperature\\nﬁeld (Fig. S10b), see more details in the Methods. Different from the classical climate network\\napproach with only one climate variable, see Ref. [30, 65, 66] and references therein, we construct\\nclimate networks where each link connects one node located in the Arctic (Fig. S10a) and the other\\nin the globe (Fig. S10b). In particular, the link weight quantiﬁes the similarity of temporal evolu-\\ntion between two different climate variables, i.e., the Arctic sea ice and the global air temperature.\\nBy comparing to a Null-model (see Methods), we observe the dynamic behavior of network con-\\nnectivity (as shown in Fig. S11a), which is deﬁned as the ratio of signiﬁcant links for each month’s\\nnetwork. The statistical signiﬁcance for each link is deﬁned by comparing to the null-model, see\\ndetails in Method section. A value of above 5% connectivity indicates statistically signiﬁcant syn-\\nchronization of weather between the Arctic and areas outside, such as Feb. 2010 (see Fig. S11b\\nand c), when the AO is in a strong negative phase and the cold polar air plunged into lower lat-\\nitudes of the NH and result in extreme weather conditions in a large area of the globe [67, 68].\\nWe identify the signiﬁcant Arctic-global teleconnection patterns by using climate network node\\ndegree ﬁelds, which are deﬁned as the number of signiﬁcant links that connect to the Arctic for\\neach global node, for two speciﬁc periods, Feb. 2010 (AO negative phase) and Mar. 2019 (AO\\npositive phase) in Fig. 5a and c, respectively.\\nMoreover, two typical links presented in Fig. 5 indicate strong synchronizations between the\\ndaily sea ice cover for one Arctic node and the air temperature for another remote global node\\n(their time series are shown in Figs. S12 and S13). As shown in Fig. S12b, changes in the sea ice\\nfor node i(77.5◦ N, 160◦ E) in the Arctic are two days ahead of the air temperature variations for\\nnode j(30◦ N, 105◦ E) in the Sichuan Province of Southwest China, i.e., evolution of the Arctic sea\\nice could affect the anomalies of air temperature in Southwest China. To better understand how\\nsea ice affects air temperature variability faraway, we identify the most probable teleconnection\\npropagation path through the shortest path method (see Methods for more details). We show a\\npotential propagation path for this teleconnection (marked by yellow in Fig. 5b) and ﬁnd that it\\nseems to be roughly a straight line from the Arctic to Southwest China through Eastern Russia and\\n7'),\n",
       " Document(metadata={'producer': 'pdfTeX-1.40.21', 'creator': 'LaTeX with hyperref', 'creationdate': '2023-02-07T01:49:05+00:00', 'author': '', 'keywords': '', 'moddate': '2023-02-07T01:49:05+00:00', 'ptex.fullbanner': 'This is pdfTeX, Version 3.14159265-2.6-1.40.21 (TeX Live 2020) kpathsea version 6.3.2', 'subject': '', 'title': '', 'trapped': '/False', 'source': '/Users/harinivaranasi/Desktop/Research/sample_document5.pdf', 'total_pages': 26, 'page': 7, 'page_label': '8'}, page_content='Mongolia. The path length is close to 6400 km. From a meteorological perspective, this path can\\nbe well explained by the main large-scale atmospheric circulation. A negative phase of the AO\\nleads to a stronger Siberian High and extends farther southeastward. This results in repeated cold\\nair outbreaks into South China [42]. Our analysis is highly consistent with the wind climatology,\\nsee the background information of Fig. 5b.\\nIn addition, its feedback is also considered. However, we observe a relatively weaker connection\\nin the opposite direction, i.e., from Southwest China to the Arctic. We ﬁnd that changes in the air\\ntemperature at the same location in Southwest China inﬂuence that of the sea ice for the same\\nArctic node 11 days later, as shown in Fig. S12c. Correspondingly, we identify its potential\\npropagation path (marked by orange in Fig. 5b) and ﬁnd it corresponds to negative wind anomalies\\nfrom Southwest China to the Arctic. These two tele-connected paths form an interaction loop that\\nsuggests a large-scale atmospheric feedback of WV between the Arctic and Southwest China.\\nIn a contrast, during a positive phase of the AO, we show another teleconnection and its path\\nin Fig. 5c and d, which indicates that the ﬂuctuations of air temperature in California can affect\\nthe Arctic sea ice through the upper atmospheric circulations. Meanwhile, changes in the Arctic\\nsea ice can also inﬂuence the temperature ﬂuctuations in California along upper wind routes in\\nan opposite direction, however, at a weaker strength (see more details in Fig. S13c). This is\\nbecause during the positive phase of the AO, low pressure dominates the Arctic regions, leading\\nto a northward and intensiﬁed jet stream that blocks the outbreaks of frigid polar air into lower\\nlatitudes and reduces storm activity in California [69]. The uncovered teleconnection loop between\\nthe Arctic and California suggests that Arctic sea ice decline may drive more California droughts\\nand wildﬁres [70].\\nThe synchronization of day-to-day weather between the Arctic and other regions can favor\\npositive feedbacks of WV , where increasing WV/instability of the Arctic sea ice may cause a\\nhigher risk of extreme weather conditions in remote global regions. Meanwhile, impacts from\\nglobal regions may also induce unstable weather conditions in the Arctic.\\n8'),\n",
       " Document(metadata={'producer': 'pdfTeX-1.40.21', 'creator': 'LaTeX with hyperref', 'creationdate': '2023-02-07T01:49:05+00:00', 'author': '', 'keywords': '', 'moddate': '2023-02-07T01:49:05+00:00', 'ptex.fullbanner': 'This is pdfTeX, Version 3.14159265-2.6-1.40.21 (TeX Live 2020) kpathsea version 6.3.2', 'subject': '', 'title': '', 'trapped': '/False', 'source': '/Users/harinivaranasi/Desktop/Research/sample_document5.pdf', 'total_pages': 26, 'page': 8, 'page_label': '9'}, page_content='DISCUSSION\\nIn summary, we have introduced the mathematical WACF and WPS functions to quantify the\\nshort-term dynamic WV relating to the irregularity and frequency of the day-to-day changes of\\nclimate data. By adapting WACF and WPS, we are able to identify signiﬁcant effects of the AO\\non day-to-day changes of the Arctic sea ice as well as the WV in mid-to-high latitudes of the\\nNH. We attribute the physical mechanism to the shifts of north-to-south location of jet stream\\nand storm-steering associated with different phases of the AO. Furthermore, we found that during\\nthe past 40 years, the Arctic sea ice variability on weather time scales is substantially increasing\\ndue to the melting of the thick perennial sea ice. Finally, in order to analyze the dynamic Arctic\\nweather connectivity, we have constructed multivariable climate networks, i.e., between the Arctic\\nsea ice and the global air temperature ﬁeld. By applying the shortest path method, we are able\\nto identify teleconnections paths as well as positive feedback loops of WV . We also proposed a\\npossible physical mechanism underlying these paths. The reduction of Arctic sea ice stability may\\nincrease the risk of unstable weather conditions and lead to reduced skill of weather forecasts [71]\\nglobally through the Arctic-global teleconnected feedback loops. Our new ﬁndings can help to\\nunderstand the physical mechanisms linking the AA and the global climate, and implies prominent\\nglobal impacts of the Arctic WV on human and natural systems under climate change [6, 49].\\nAs the Arctic is considered to be a barometer of global climatic change, in particular, Arctic sea\\nice loss is approaching a tipping point and is extremely crucial for the whole Earth’s climate [72].\\nBesides the immediate utility of being able to quantitatively analyze the dynamics of WV for local\\nArctic regions and its global impacts, our framework would be also applied to study and reveal\\nthe short-term synchronizations of connectivity among remote global regions, sea ice forecasting,\\nas well as systemic risk induced by the interdependency among other complex subsystems and\\ncascading of adverse consequences, which is particularly important for a systemic risk-informed\\nglobal governance.\\n9'),\n",
       " Document(metadata={'producer': 'pdfTeX-1.40.21', 'creator': 'LaTeX with hyperref', 'creationdate': '2023-02-07T01:49:05+00:00', 'author': '', 'keywords': '', 'moddate': '2023-02-07T01:49:05+00:00', 'ptex.fullbanner': 'This is pdfTeX, Version 3.14159265-2.6-1.40.21 (TeX Live 2020) kpathsea version 6.3.2', 'subject': '', 'title': '', 'trapped': '/False', 'source': '/Users/harinivaranasi/Desktop/Research/sample_document5.pdf', 'total_pages': 26, 'page': 9, 'page_label': '10'}, page_content='Figure 1: The arctic system as a crucial component of the Earth climate system. a, Schematic\\nview of a climate network. Links indicate interactions between different regional climate systems\\nin the globe. Golden links represent teleconnections between the Arctic and regions outside. b,\\nIllustration of the complex Arctic system. It contains the cryosphere, biosphere, hydrosphere, and\\natmosphere as well as the interactions among them. A change in one component often triggers\\nchanges and feedbacks in numerous interconnected processes (e.g., Arctic sea ice decline). The\\ncircular arrow suggests a positive feedback of the WV between the Arctic and the rest of the\\nclimate system.\\n10'),\n",
       " Document(metadata={'producer': 'pdfTeX-1.40.21', 'creator': 'LaTeX with hyperref', 'creationdate': '2023-02-07T01:49:05+00:00', 'author': '', 'keywords': '', 'moddate': '2023-02-07T01:49:05+00:00', 'ptex.fullbanner': 'This is pdfTeX, Version 3.14159265-2.6-1.40.21 (TeX Live 2020) kpathsea version 6.3.2', 'subject': '', 'title': '', 'trapped': '/False', 'source': '/Users/harinivaranasi/Desktop/Research/sample_document5.pdf', 'total_pages': 26, 'page': 10, 'page_label': '11'}, page_content='0 4 8 12 16 20 24 28 32\\nt (days)\\n0\\n1\\n0\\n1\\n-1\\n1\\n-1\\n1\\na x = cos(2 t/20)\\ny = cos(2 t/10)\\nzx = 0.2 * x + 0.8u\\nut + 1 = 3.8ut(1 ut)\\nzy = 0.2 * y + 0.8u\\nut + 1 = 3.8ut(1 ut)\\n-8 -4 0 4 8\\n (days)\\n0\\n0.8\\n0\\n0.9\\n0\\n1\\n0\\n1\\nAbsolute Auto-correlation\\nWACF = 1.2\\nWACF = 1.2\\nWACF = 2.4\\nWACF = 2.4\\nb\\n30 10 5 3 2\\nPeriod (days)\\n0.0\\n0.15\\n0.0\\n0.15\\n0.0\\n0.5\\n0.0\\n0.5\\nNormalized PSD\\nWPS = 0.04 day 1\\nWPS = 0.10 day 1\\nWPS = 0.26 day 1\\nWPS = 0.29 day 1\\nc\\nrd WACF\\n0.50\\n0.25\\n0.00\\n0.25\\n0.50\\nre WPS\\n0.50\\n0.25\\n0.00\\n0.25\\n0.50\\n30 10 5 3 2\\nPeriod (days)\\n0.0\\n0.2\\n0.4\\n0.6Normalized PSD\\nJan. 1989, AO = 3.1\\nJan. 2010, AO = 2.6\\nf\\n1980 1984 1988 1992 1996 2000 2004 2008 2012 2016\\nyear\\n1.8\\n2.4\\n3.0WACF\\n-4\\n-2\\n0\\n2\\nAO\\ng\\n-1.0 0.0 1.0\\nAO\\n2.2\\n2.4\\n2.6WACF\\nr = 0.65\\nh\\nFigure 2: Blueshift effect of the Arctic Oscillation on the Arctic weather variability. a,\\nSample nonlinear time series generated based on Eqs. (1-4). b, The auto-correlation functions\\nand values WACF of each sample time series shown in a. c, The power spectrum density and\\nvalues WPS of each sample time series shown in a. d, The correlations between the annual mean\\nof the AO index and the WACF for the Arctic sea ice. The “x” marks represent the nodes with\\ncorrelations signiﬁcant at the 95% conﬁdence level (Student’s t test).e, The same as d for WPS. f,\\nThe power spectrum of the sea ice for all nodes marked by symbol “x” in e in Jan. 1989 with a\\npositive AO phase comparing to that in Jan. 2010 with a negative AO phase. g, The AO index\\n(pink solid line for monthly and pink dashed line for annual) versus the WACF index (dark blue\\nsolid line for monthly and dark blue dashed for annual) averaged over all nodes marked by\\nsymbol “x” in d. h, The scatter plots of annual indexes (dashed lines in g) of the AO versus\\nWACF, the rvalue between these two indexes is 0.65, with a pvalue of 5.5 ×10−6.\\n11'),\n",
       " Document(metadata={'producer': 'pdfTeX-1.40.21', 'creator': 'LaTeX with hyperref', 'creationdate': '2023-02-07T01:49:05+00:00', 'author': '', 'keywords': '', 'moddate': '2023-02-07T01:49:05+00:00', 'ptex.fullbanner': 'This is pdfTeX, Version 3.14159265-2.6-1.40.21 (TeX Live 2020) kpathsea version 6.3.2', 'subject': '', 'title': '', 'trapped': '/False', 'source': '/Users/harinivaranasi/Desktop/Research/sample_document5.pdf', 'total_pages': 26, 'page': 11, 'page_label': '12'}, page_content='a WACF\\n b WACF\\nc WPS\\n d WPS\\n0.50\\n 0.25\\n 0.00 0.25 0.50\\nr\\nFigure 3: The relationships between the AO and weather variability. a,b, The correlation\\nmaps between the annual mean of the AO index and WACF of the air temperature at 850hPa\\npressure level during the period of 1980–2019. c,d, The same as a and b, but for WPS. The\\nsymbol “x” in each panel represents the region with correlation signiﬁcant at the 95% conﬁdence\\nlevel (Student’s t-test).\\n12'),\n",
       " Document(metadata={'producer': 'pdfTeX-1.40.21', 'creator': 'LaTeX with hyperref', 'creationdate': '2023-02-07T01:49:05+00:00', 'author': '', 'keywords': '', 'moddate': '2023-02-07T01:49:05+00:00', 'ptex.fullbanner': 'This is pdfTeX, Version 3.14159265-2.6-1.40.21 (TeX Live 2020) kpathsea version 6.3.2', 'subject': '', 'title': '', 'trapped': '/False', 'source': '/Users/harinivaranasi/Desktop/Research/sample_document5.pdf', 'total_pages': 26, 'page': 12, 'page_label': '13'}, page_content='b WACF\\n c WPS\\n0.6\\n0.4\\n0.2\\n0.0\\n0.2\\n0.4\\n0.6\\nchanges per decade ( )\\nJan Mar May Jul Sep Nov\\n0.0\\n0.2\\n0.4Ratio\\n6\\n8\\n10\\n12\\n14\\nIce Index (106km2)\\na\\nWPS\\nWACF\\nIce Index\\nFigure 4: The dynamic weather variability of the Arctic daily sea ice cover during June. a,\\nThe ratio of nodes that has statistically signiﬁcant increasing trend for the WACF (gray) and WPS\\n(purple); the Sea Ice Index, i.e. the area with at least 15% ice cover (blue) for the same months\\nduring 1980–2019. b, Changes per decade as multiple of one standard deviation (σ), for each\\nArctic node’sWACF during June. c, the same as b for WPS. The symbol “x” in panels b and c\\nrepresents the region with trend signiﬁcant at the 95% conﬁdence level (Student’s t-test).\\n13'),\n",
       " Document(metadata={'producer': 'pdfTeX-1.40.21', 'creator': 'LaTeX with hyperref', 'creationdate': '2023-02-07T01:49:05+00:00', 'author': '', 'keywords': '', 'moddate': '2023-02-07T01:49:05+00:00', 'ptex.fullbanner': 'This is pdfTeX, Version 3.14159265-2.6-1.40.21 (TeX Live 2020) kpathsea version 6.3.2', 'subject': '', 'title': '', 'trapped': '/False', 'source': '/Users/harinivaranasi/Desktop/Research/sample_document5.pdf', 'total_pages': 26, 'page': 13, 'page_label': '14'}, page_content='a February 2010 AO=-4.266\\n0 30 60 90 120 150\\nNode Degree\\nc March 2019 AO=2.116\\n0 30 60 90 120 150\\nNode Degree\\nb (77.5 N, 160 E) (30 N, 105 E)\\n0 30 60 90 120 150\\nWind 850hPa(km/h)\\nd (77.5 N, 140 W) (35 N, 115 W)\\n0 48 96 144 192 240\\nWind 500hPa (km/h)\\nFigure 5: Diagram of climate network teleconnection paths. a, Heatmap of the node degree\\ndeﬁned as the number of signiﬁcant links for each node (see Methods) in the climate network of\\nFeb. 2010. The blue line indicates the teleconnection between one Arctic node and one node\\nlocated in Sichuan province of China. b, The propagation pathway of the teleconnection marked\\nby blue in a. c, the same as a for Mar. 2019. The blue line indicates the teleconnection link\\nbetween one Arctic node and one node in California of United States. d, The propagation\\npathway of the teleconnection marked by blue in c. The colors and white arrows depict the\\nmagnitudes and directions of the 850 (500)-hPa winds in b (d).\\n14'),\n",
       " Document(metadata={'producer': 'pdfTeX-1.40.21', 'creator': 'LaTeX with hyperref', 'creationdate': '2023-02-07T01:49:05+00:00', 'author': '', 'keywords': '', 'moddate': '2023-02-07T01:49:05+00:00', 'ptex.fullbanner': 'This is pdfTeX, Version 3.14159265-2.6-1.40.21 (TeX Live 2020) kpathsea version 6.3.2', 'subject': '', 'title': '', 'trapped': '/False', 'source': '/Users/harinivaranasi/Desktop/Research/sample_document5.pdf', 'total_pages': 26, 'page': 14, 'page_label': '15'}, page_content='DATA AND METHODS\\nData\\nThe data used in the current work is the 0 hr (UTC) daily sea ice cover and the air temperature\\nat 850hPa pressure level from the ERA5 [73] ( https://apps.ecmwf.int/datasets/)\\nreanalysis, with a spatial (zonal and meridional) resolution of 2.5◦ ×2.5◦. The searching principle\\nfor 850hPa pressure level is, since it is just above the boundary layer to avoid direct interactions\\nbetween the sea ice and surface atmosphere [24]. We select 8040 grids from the dataset of air\\ntemperature which approximately equally cover the globe (see Fig. S10b). There are 377 grids\\nlocated in the ocean of the Arctic region that with non-zero sea ice cover at least for one day (see\\nFig. S10a). Then, for each calendar year yand for each node, we calculate the anomalous value for\\neach calendar day tby using the original value minus the climatological average, then divided by\\nthe climatological standard deviation. The calculations of the climatological average and standard\\ndeviation are based on data from the year of 1979 to 2019. For simplicity, leap days are excluded.\\nThe AO index was downloaded from:https://www.cpc.ncep.noaa.gov/products/\\nprecip/CWlink/dailyaoindex/monthly.ao.index.b50.current.ascii. [Ac-\\ncessed in Sep. 2021].\\nThe Arctic Sea Ice Extent was downloaded from :https://nsidc.org/data/g02135/\\nversions/3. [Accessed in Jan. 2021].\\nAssessing Weather Variability Functions\\nAdvanced autocorrelation function method\\nThe autocorrelation function (ACF) is widely used to measure the memory of a time series and\\nreveals how the correlation between any two values of the signal changes as their time-lag [57].\\nGenerally, for a given time series, xt, the ACF is deﬁned as,\\nC(τ) = Cov (xt,xt+τ)√\\nVar (xt) Var (xt+τ)\\n, (5)\\n15'),\n",
       " Document(metadata={'producer': 'pdfTeX-1.40.21', 'creator': 'LaTeX with hyperref', 'creationdate': '2023-02-07T01:49:05+00:00', 'author': '', 'keywords': '', 'moddate': '2023-02-07T01:49:05+00:00', 'ptex.fullbanner': 'This is pdfTeX, Version 3.14159265-2.6-1.40.21 (TeX Live 2020) kpathsea version 6.3.2', 'subject': '', 'title': '', 'trapped': '/False', 'source': '/Users/harinivaranasi/Desktop/Research/sample_document5.pdf', 'total_pages': 26, 'page': 15, 'page_label': '16'}, page_content='where Cov(X,Y) = E[(X −E[X])(Y −E[Y])] and Var(X) = E[X2] −E[X]2. If the xt are\\ncompletely uncorrelated, for example, a white noise process, C(τ) is zero at all lags except a\\nvalue of unity at lag zero (τ = 0). A correlated process on the other hand, has non-zero values at\\nlags other than zero to indicate a correlation between different lagged observations. In particular,\\nshort-range memory of the xt are described by C(τ) declining exponentially\\nC(τ) ∼exp (−τ/τ∗) , (6)\\nwith a characteristic time scale, τ∗. For long-range memory, C(τ) declines as a power-law\\nC(τ) ∝τ−γ, (7)\\nwith an exponent 0 < γ <1. However, a direct calculation of C(τ), τ∗ and γ is usually not\\nappropriate due to noise superimposed on the collected data xt and due to underlying trends of\\nunknown origin [74]. In order to overcome the problems described above, here, we develop an\\nadvanced autocorrelation function method to quantify the memory (both short and long range)\\nstrength WACF of a time series as,\\nWACF = max (|C(τ)|) −mean (|C(τ)|)√\\nVar (|C(τ)|)\\n≡1 −mean (|C(τ)|)√\\nVar (|C(τ)|)\\n, (8)\\nwhere ‘max’ and ‘mean’ are the maximum and mean values of the absolute ACF, i.e., |C(τ)|,\\nrespectively. τ ∈[−τmax,τmax] is the time lag. In the present work, we take τmax = 10 days,\\nsince we are considering the day-to-day changes of data at the time scale of weather forecasting,\\ni.e., within two weeks. Equation (8) describes the ﬂuctuations of the ACF and its values reveal\\nthe strength of memory, i.e., higher (smaller) WACF indicates a weaker (stronger) correlation and\\nresults in a low (strong) memory. For example, white noise has a maximum value WACF =\\n(2τmax + 1)\\n√\\n2τmax\\n2τmax+1 . Other examples are described in Fig. 2. Another big advancement of our\\nmethod is eliminating the problematic nonstationarities.\\nAdvanced power spectrum method\\nThe advanced autocorrelation function WACF quantify well the strength of memory for an ar-\\nbitrary time series, but does not reveal any information about the frequency content. For example,\\n16'),\n",
       " Document(metadata={'producer': 'pdfTeX-1.40.21', 'creator': 'LaTeX with hyperref', 'creationdate': '2023-02-07T01:49:05+00:00', 'author': '', 'keywords': '', 'moddate': '2023-02-07T01:49:05+00:00', 'ptex.fullbanner': 'This is pdfTeX, Version 3.14159265-2.6-1.40.21 (TeX Live 2020) kpathsea version 6.3.2', 'subject': '', 'title': '', 'trapped': '/False', 'source': '/Users/harinivaranasi/Desktop/Research/sample_document5.pdf', 'total_pages': 26, 'page': 16, 'page_label': '17'}, page_content='Eqs. (1) and (2) are two functions with different periods. Their WACF values are almost the same,\\nas shown in Fig. 2. To ﬁll this gap, we further develop an advanced power spectrum (PS) method.\\nBased on the Welch’s method [75] we deﬁne the advanced power spectral densityWPS as,\\nWPS =\\n∫\\nf\\nP(f) ×fdf, (9)\\nwhere P(f) is the normalized spectral density andfstands for the corresponding frequency, which\\ncan be obtained by Fourier transform. WPS is indeed the weighted mean of f, thus has the same\\nunit as frequency. Notably, a relatively higher value of theWPS indicates a larger ratio of the high\\nfrequency components (i.e., blueshift), see examples shown in Fig. 2.\\nClimate Networks\\nNodes\\nDifferent from the classical climate network with only one node classiﬁcation, see Ref. [30, 66]\\nand references therein, here, we deﬁne two types of nodes: globe nodes i with air temperature\\nvariable Ti(t); Arctic nodes j with Arctic sea ice cover variable Ij(t). We thus have 8040 globe\\nnodes (as shown in Fig. S10b) and 377 Arctic nodes (as shown in Fig. S10a).\\nLinks\\nWe construct a sequence of multivariate climate networks. For obtaining the strength of the\\nlinks between each pair of nodes iand j, we compute, for each month m, the time-delayed, cross-\\ncorrelation function\\nCm\\ni,j(τ) =\\n⟨\\nTm\\ni (t)Im\\nj (t−τ)\\n⟩\\n−⟨Tm\\ni (t)⟩\\n⟨\\nIm\\nj (t−τ)\\n⟩\\n√\\nVar(Tm\\ni (t)) Var(Im\\nj (t−τ))\\n, (10)\\nand\\nCm\\ni,j(−τ) =\\n⟨\\nTm\\ni (t−τ)Im\\nj (t)\\n⟩\\n−⟨Tm\\ni (t−τ)⟩\\n⟨\\nIm\\nj (t)\\n⟩\\n√\\nVar(Tm\\ni (t−τ)) Var(Im\\nj (t))\\n, (11)\\n17'),\n",
       " Document(metadata={'producer': 'pdfTeX-1.40.21', 'creator': 'LaTeX with hyperref', 'creationdate': '2023-02-07T01:49:05+00:00', 'author': '', 'keywords': '', 'moddate': '2023-02-07T01:49:05+00:00', 'ptex.fullbanner': 'This is pdfTeX, Version 3.14159265-2.6-1.40.21 (TeX Live 2020) kpathsea version 6.3.2', 'subject': '', 'title': '', 'trapped': '/False', 'source': '/Users/harinivaranasi/Desktop/Research/sample_document5.pdf', 'total_pages': 26, 'page': 17, 'page_label': '18'}, page_content='where the bracket ⟨⟩denotes an average over consecutive days during a given month m, and τ ∈\\n[0,τmax] is the time lag. Since we mainly focus on the dynamic Arctic WV , here we chose the\\nmaximal time lag τmax = 20days for Eqs. (10) and (11).\\nWe identify the time lagθat which the absolute value of the cross-correlation function|Cm\\ni,j(τ)|\\nreaches its maximum. The weight of link (i,j)m is deﬁned as the corresponding value of the cross-\\ncorrelation function, i.e. Cm\\ni,j = Cm\\ni,j(τ = θ). Therefore, the weight of each link could be either\\npositive or negative, but with the maximum absolute value. The sign ofθindicates the direction of\\neach link; that is, when the time lag is positive (θ >0), the direction of this link is from jto i, and\\nvice versa [76].\\nNull-model\\nNext, we investigate the statistical signiﬁcance of the link weights in the real networks by\\ncomparing to the shufﬂed surrogate network. In the surrogate network, to calculate link weight\\nfor each pair of nodes, we use two segment of data, each is corresponding to 30 consecutive days\\nstarting from the ﬁrst day of a month that is randomly selected from the period Jan. 1980-Dec.\\n2019, so that to destroy real correlations between two nodes in the temporal dimension. Then we\\ndeﬁne the signiﬁcant threshold q as the 95% highest value of the absolute weights for all links in\\nthe surrogate network. The link (i,j)m in the real network for a speciﬁc month m is deﬁned as\\nsigniﬁcant if it is higher than q or lower than −q, i.e., |Cm\\ni,j|> q. We ﬁnd that the number of\\nsigniﬁcant links for each month’s network are dynamically changing with time as shown in Fig.\\nS11.\\nNode degrees\\nWe deﬁne the degree for each global node as the number of signiﬁcant links that connect to the\\nArctic nodes. We show heatmaps of node degrees for two speciﬁc months, i.e., the Feb. 2010 (Fig.\\n5a) and the Mar. 2019 (Fig. 5b). We observe higher node degrees in many regions, even in low\\nlatitudes, of the NH for Feb. 2010, comparing to that for Mar. 2019. We suppose it is related to\\nthe different phases of the AO.\\n18'),\n",
       " Document(metadata={'producer': 'pdfTeX-1.40.21', 'creator': 'LaTeX with hyperref', 'creationdate': '2023-02-07T01:49:05+00:00', 'author': '', 'keywords': '', 'moddate': '2023-02-07T01:49:05+00:00', 'ptex.fullbanner': 'This is pdfTeX, Version 3.14159265-2.6-1.40.21 (TeX Live 2020) kpathsea version 6.3.2', 'subject': '', 'title': '', 'trapped': '/False', 'source': '/Users/harinivaranasi/Desktop/Research/sample_document5.pdf', 'total_pages': 26, 'page': 18, 'page_label': '19'}, page_content='Teleconnection path mining\\nTo identify the teleconnection path, we perform the shortest path method of complex networks\\nto ﬁnd the optimal paths in our climate networks. A path is a sequence of nodes in which each node\\nis adjacent to the next one, especially, in a directed network, the path can follow only the direction\\nof an arrow. Here, our climate network is based on only one climate variable–air temperature at\\n850hPa pressure level, and we select 726 nodes from the 10512 nodes [34, 37]. For each climate\\nnetwork link (i,j)m, we deﬁne its cost function value as\\nEm\\ni,j = 1\\n|Cm\\ni,j|. (12)\\nThe Dijkstra algorithm [77] was used to determine the directed optimal path between a source\\nnode i and a sink node j with the following constraints [37, 78]: (i) the distance for every step\\nis shorter than 1000km; (ii) link time delay θ ≥0; (iii) the sum cost function value for all col-\\nlection of links through path i −→j is minimal. In this way, we identify the optimal paths for\\ninformation/energy/matter spreading in the two-dimensional space.\\nDATA A V AILABILITY\\nThe data represented in Figs. 2–5 are available as Source Data. All other data that support the\\nplots within this paper and other ﬁndings of this study are available from the corresponding author\\nupon reasonable request.\\nCODE A V AILABILITY\\nThe C++ and Python codes used for the analysis are available on GitHub: ( https://\\ngithub.com/fanjingfang/DAWV).\\n19'),\n",
       " Document(metadata={'producer': 'pdfTeX-1.40.21', 'creator': 'LaTeX with hyperref', 'creationdate': '2023-02-07T01:49:05+00:00', 'author': '', 'keywords': '', 'moddate': '2023-02-07T01:49:05+00:00', 'ptex.fullbanner': 'This is pdfTeX, Version 3.14159265-2.6-1.40.21 (TeX Live 2020) kpathsea version 6.3.2', 'subject': '', 'title': '', 'trapped': '/False', 'source': '/Users/harinivaranasi/Desktop/Research/sample_document5.pdf', 'total_pages': 26, 'page': 19, 'page_label': '20'}, page_content='ACKNOWLEDGMENTS\\nThe authors wish to thank T. Liu for his helpful suggestions. We acknowledge the support by\\nthe National Natural Science Foundation of China (Grant No. 12205025, 12275020, 12135003).\\nAUTHOR CONTRIBUTIONS\\nJ.M and J.F designed the research. J.M performed the analysis, J.M, J.F, U.S.B and J.K gener-\\nated research ideas and discussed results, and contributed to writing the manuscript.\\nADDITIONAL INFORMATION\\nSupplementary Information is available in the online version of the paper.\\nCOMPETING INTERESTS\\nThe authors declare no competing interests.\\n[1] Rothrock, D. A., Yu, Y . & Maykut, G. A. Thinning of the Arctic sea-ice cover. Geophysical Research\\nLetters 26, 3469–3472 (1999).\\n[2] Comiso, J. C., Parkinson, C. L., Gersten, R. & Stock, L. Accelerated decline in the Arctic sea ice\\ncover. Geophysical Research Letters 35 (2008).\\n[3] Rantanen, M. et al. The Arctic has warmed nearly four times faster than the globe since 1979. Com-\\nmunications Earth & Environment 3, 1–10 (2022).\\n[4] Miller, G. H. et al. Arctic ampliﬁcation: can the past constrain the future? Quaternary Science Reviews\\n29, 1779–1790 (2010).\\n[5] Serreze, M. C. & Barry, R. G. Processes and impacts of Arctic ampliﬁcation: A research synthesis.\\nGlobal and Planetary Change 77, 85–96 (2011).\\n20'),\n",
       " Document(metadata={'producer': 'pdfTeX-1.40.21', 'creator': 'LaTeX with hyperref', 'creationdate': '2023-02-07T01:49:05+00:00', 'author': '', 'keywords': '', 'moddate': '2023-02-07T01:49:05+00:00', 'ptex.fullbanner': 'This is pdfTeX, Version 3.14159265-2.6-1.40.21 (TeX Live 2020) kpathsea version 6.3.2', 'subject': '', 'title': '', 'trapped': '/False', 'source': '/Users/harinivaranasi/Desktop/Research/sample_document5.pdf', 'total_pages': 26, 'page': 20, 'page_label': '21'}, page_content='[6] Previdi, M., Smith, K. L. & Polvani, L. M. Arctic ampliﬁcation of climate change: a review of\\nunderlying mechanisms. Environmental Research Letters16, 093003 (2021).\\n[7] Ørbæk, J. B. et al. Arctic alpine ecosystems and people in a changing environment (Springer, 2007).\\n[8] Peeken, I. et al. Arctic sea ice is an important temporal sink and means of transport for microplastic.\\nNature Communications 9, 1505 (2018).\\n[9] Schneider von Deimling, T. et al. Consequences of permafrost degradation for Arctic infrastructure–\\nbridging the model gap between regional and engineering scales. The Cryosphere 15, 2451–2471\\n(2021).\\n[10] Steffen, W. et al. The emergence and evolution of Earth System Science. Nature Reviews Earth &\\nEnvironment 1, 54–63 (2020).\\n[11] Assessment, A. C. I. Arctic climate impact assessment, vol. 1042 (Cambridge University Press Cam-\\nbridge, 2005).\\n[12] S ´evellec, F., Fedorov, A. V . & Liu, W. Arctic sea-ice decline weakens the Atlantic Meridional Over-\\nturning Circulation. Nature Clim Change 7, 604–610 (2017).\\n[13] Screen, J. A. et al. Consistency and discrepancy in the atmospheric response to Arctic sea-ice loss\\nacross climate models. Nature Geoscience 11, 155–163 (2018).\\n[14] Chemke, R., Polvani, L. M. & Deser, C. The Effect of Arctic Sea Ice Loss on the Hadley Circulation.\\nGeophysical Research Letters 46, 963–972 (2019).\\n[15] Blackport, R., Screen, J. A., van der Wiel, K. & Bintanja, R. Minimal inﬂuence of reduced Arctic sea\\nice on coincident cold winters in mid-latitudes. Nature Climate Change 9, 697–704 (2019).\\n[16] Rahmstorf, S. Thermohaline circulation: The current climate. Nature 421, 699–699 (2003).\\n[17] Budikova, D. Role of Arctic sea ice in global atmospheric circulation: A review. Global and Planetary\\nChange 68, 149–163 (2009).\\n[18] Kushnir, Y . et al. Atmospheric GCM Response to Extratropical SST Anomalies: Synthesis and Eval-\\nuation. Journal of Climate 15, 2233–2256 (2002).\\n[19] Alexander, M. A. et al. The Atmospheric Response to Realistic Arctic Sea Ice Anomalies in an AGCM\\nduring Winter. Journal of Climate 17, 890–905 (2004).\\n[20] Honda, M., Inoue, J. & Yamane, S. Inﬂuence of low Arctic sea-ice minima on anomalously cold\\nEurasian winters. Geophysical Research Letters 36 (2009).\\n21'),\n",
       " Document(metadata={'producer': 'pdfTeX-1.40.21', 'creator': 'LaTeX with hyperref', 'creationdate': '2023-02-07T01:49:05+00:00', 'author': '', 'keywords': '', 'moddate': '2023-02-07T01:49:05+00:00', 'ptex.fullbanner': 'This is pdfTeX, Version 3.14159265-2.6-1.40.21 (TeX Live 2020) kpathsea version 6.3.2', 'subject': '', 'title': '', 'trapped': '/False', 'source': '/Users/harinivaranasi/Desktop/Research/sample_document5.pdf', 'total_pages': 26, 'page': 21, 'page_label': '22'}, page_content='[21] Francis, J. A. & Vavrus, S. J. Evidence linking Arctic ampliﬁcation to extreme weather in mid-\\nlatitudes. Geophysical Research Letters 39 (2012).\\n[22] Cohen, J. et al. Recent Arctic ampliﬁcation and extreme mid-latitude weather. Nature Geoscience 7,\\n627–637 (2014).\\n[23] Guemas, V . et al. A review on Arctic sea-ice predictability and prediction on seasonal to decadal\\ntime-scales. Quarterly Journal of the Royal Meteorological Society 142, 546–561 (2016).\\n[24] Olonscheck, D., Mauritsen, T. & Notz, D. Arctic sea-ice variability is primarily driven by atmospheric\\ntemperature ﬂuctuations. Nature Geoscience 12, 430–434 (2019).\\n[25] Smith, G. C. et al. Sea ice forecast veriﬁcation in the Canadian Global Ice Ocean Prediction System.\\nQuarterly Journal of the Royal Meteorological Society 142, 659–671 (2016).\\n[26] Mohammadi-Aragh, M., Goessling, H. F., Losch, M., Hutter, N. & Jung, T. Predictability of Arctic\\nsea ice on weather time scales. Scientiﬁc Reports 8, 6514 (2018).\\n[27] Dammann, D. O., Bhatt, U. S., Langen, P. L., Krieger, J. R. & Zhang, X. Impact of Daily Arctic Sea\\nIce Variability in CAM3.0 during Fall and Winter. Journal of Climate 26, 1939–1955 (2013).\\n[28] Newman, M. Networks: An Introduction (Oxford University Press, Oxford, 2010).\\n[29] Tsonis, A. A. & Roebber, P. J. The architecture of the climate network. Physica A: Statistical Me-\\nchanics and its Applications 333, 497–504 (2004).\\n[30] Fan, J. et al. Statistical physics approaches to the complex Earth system. Physics Reports 896, 1–84\\n(2021).\\n[31] Ludescher, J. et al. Improved El Ni ˜no forecasting by cooperativity detection. Proceedings of the\\nNational Academy of Sciences 110, 11742–11745 (2013).\\n[32] Meng, J., Fan, J., Ashkenazy, Y . & Havlin, S. Percolation framework to describe El Ni ˜no conditions.\\nChaos 27, 035807 (2017).\\n[33] Stolbova, V ., Surovyatkina, E., Bookhagen, B. & Kurths, J. Tipping elements of the Indian monsoon:\\nPrediction of onset and withdrawal. Geophysical Research Letters 43, 3982–3990 (2016).\\n[34] Fan, J. et al. Network-based approach and climate change beneﬁts for forecasting the amount of indian\\nmonsoon rainfall. Journal of Climate 35, 1009–1020 (2022).\\n[35] Boers, N. et al. Complex networks reveal global pattern of extreme-rainfall teleconnections. Nature\\n566, 373–377 (2019).\\n22'),\n",
       " Document(metadata={'producer': 'pdfTeX-1.40.21', 'creator': 'LaTeX with hyperref', 'creationdate': '2023-02-07T01:49:05+00:00', 'author': '', 'keywords': '', 'moddate': '2023-02-07T01:49:05+00:00', 'ptex.fullbanner': 'This is pdfTeX, Version 3.14159265-2.6-1.40.21 (TeX Live 2020) kpathsea version 6.3.2', 'subject': '', 'title': '', 'trapped': '/False', 'source': '/Users/harinivaranasi/Desktop/Research/sample_document5.pdf', 'total_pages': 26, 'page': 22, 'page_label': '23'}, page_content='[36] Fan, J., Meng, J., Ashkenazy, Y ., Havlin, S. & Schellnhuber, H. J. Climate network percolation reveals\\nthe expansion and weakening of the tropical component under global warming. Proceedings of the\\nNational Academy of Sciences 115, E12128–E12134 (2018).\\n[37] Liu, T. et al. Teleconnections among tipping elements in the Earth system. Nat. Clim. Chang. 1–8\\n(2023).\\n[38] Lu, Z. et al. Early warning of the Indian Ocean Dipole using climate network analysis. Proceedings\\nof the National Academy of Sciences 119, e2109089119 (2022).\\n[39] Thompson, D. W. J. & Wallace, J. M. The Arctic oscillation signature in the wintertime geopotential\\nheight and temperature ﬁelds. Geophysical Research Letters 25, 1297–1300 (1998).\\n[40] Deser, C. On the teleconnectivity of the “Arctic Oscillation”. Geophysical Research Letters 27, 779–\\n782 (2000).\\n[41] Rigor, I. G., Wallace, J. M. & Colony, R. L. Response of Sea Ice to the Arctic Oscillation. Journal of\\nClimate 15, 2648–2663 (2002).\\n[42] He, S., Gao, Y ., Li, F., Wang, H. & He, Y . Impact of Arctic Oscillation on the East Asian climate: A\\nreview. Earth-Science Reviews 164, 48–62 (2017).\\n[43] Simmonds, I., Burke, C. & Keay, K. Arctic Climate Change as Manifest in Cyclone Behavior. Journal\\nof Climate 21, 5777–5796 (2008).\\n[44] Kwok, R. Arctic sea ice thickness, volume, and multiyear ice coverage: losses and coupled variability\\n(1958–2018). Environmental Research Letters13, 105005 (2018).\\n[45] Zhang, X., Walsh, J. E., Zhang, J., Bhatt, U. S. & Ikeda, M. Climatology and Interannual Variability\\nof Arctic Cyclone Activity: 1948–2002. Journal of Climate 17, 2300–2317 (2004).\\n[46] Yin, J. H. A consistent poleward shift of the storm tracks in simulations of 21st century climate.\\nGeophysical Research Letters 32 (2005).\\n[47] Valkonen, E., Cassano, J. & Cassano, E. Arctic Cyclones and Their Interactions With the Declining\\nSea Ice: A Recent Climatology. Journal of Geophysical Research: Atmospheres126, e2020JD034366\\n(2021).\\n[48] Parker, C. L., Mooney, P. A., Webster, M. A. & Boisvert, L. N. The inﬂuence of recent and future\\nclimate change on spring Arctic cyclones. Nature Communications 13, 1–14 (2022).\\n23'),\n",
       " Document(metadata={'producer': 'pdfTeX-1.40.21', 'creator': 'LaTeX with hyperref', 'creationdate': '2023-02-07T01:49:05+00:00', 'author': '', 'keywords': '', 'moddate': '2023-02-07T01:49:05+00:00', 'ptex.fullbanner': 'This is pdfTeX, Version 3.14159265-2.6-1.40.21 (TeX Live 2020) kpathsea version 6.3.2', 'subject': '', 'title': '', 'trapped': '/False', 'source': '/Users/harinivaranasi/Desktop/Research/sample_document5.pdf', 'total_pages': 26, 'page': 23, 'page_label': '24'}, page_content='[49] Cohen, J. et al. Divergent consensuses on Arctic ampliﬁcation inﬂuence on midlatitude severe winter\\nweather. Nature Climate Change 10, 20–29 (2020).\\n[50] Pincus, S. Approximate entropy (ApEn) as a complexity measure. Chaos 5, 110–117 (1995).\\n[51] Richman, J. S. & Moorman, J. R. Physiological time-series analysis using approximate entropy and\\nsample entropy. American Journal of Physiology-Heart and Circulatory Physiology 278, H2039–\\nH2049 (2000).\\n[52] Costa, M., Goldberger, A. L. & Peng, C.-K. Multiscale entropy analysis of biological signals. Physical\\nreview E 71, 021906 (2005).\\n[53] Peng, C.-K., Havlin, S., Stanley, H. E. & Goldberger, A. L. Quantiﬁcation of scaling exponents and\\ncrossover phenomena in nonstationary heartbeat time series. Chaos 5, 82–87 (1995).\\n[54] Livina, V . N. & Lenton, T. M. A modiﬁed method for detecting incipient bifurcations in a dynamical\\nsystem. Geophysical research letters 34 (2007).\\n[55] Grassberger, P. & Procaccia, I. Measuring the strangeness of strange attractors. Physica. D 9, 189–208\\n(1983).\\n[56] Wolf, A., Swift, J. B., Swinney, H. L. & Vastano, J. A. Determining lyapunov exponents from a time\\nseries. Physica D: nonlinear phenomena 16, 285–317 (1985).\\n[57] Box, G. E. P., Jenkins, G. M., Reinsel, G. C. & Ljung, G. M. Time Series Analysis: Forecasting and\\nControl (Wiley, Hoboken, New Jersey, 2015).\\n[58] Stoica, P., Moses, R. L. et al. Spectral analysis of signals , vol. 452 (Pearson Prentice Hall Upper\\nSaddle River, NJ, 2005).\\n[59] Pomeau, Y . & Manneville, P. Intermittent transition to turbulence in dissipative dynamical systems.\\nCommun.Math. Phys. 74, 189–197 (1980).\\n[60] Thompson, D. W. J. & Wallace, J. M. Regional Climate Impacts of the Northern Hemisphere Annular\\nMode. Science 293, 85–89 (2001).\\n[61] Comiso, J. C. Large Decadal Decline of the Arctic Multiyear Ice Cover. Journal of Climate 25,\\n1176–1193 (2012).\\n[62] Day, J. J. & Hodges, K. I. Growing land-sea temperature contrast and the intensiﬁcation of arctic\\ncyclones. Geophysical Research Letters 45, 3673–3681 (2018).\\n24'),\n",
       " Document(metadata={'producer': 'pdfTeX-1.40.21', 'creator': 'LaTeX with hyperref', 'creationdate': '2023-02-07T01:49:05+00:00', 'author': '', 'keywords': '', 'moddate': '2023-02-07T01:49:05+00:00', 'ptex.fullbanner': 'This is pdfTeX, Version 3.14159265-2.6-1.40.21 (TeX Live 2020) kpathsea version 6.3.2', 'subject': '', 'title': '', 'trapped': '/False', 'source': '/Users/harinivaranasi/Desktop/Research/sample_document5.pdf', 'total_pages': 26, 'page': 24, 'page_label': '25'}, page_content='[63] Kenigson, J. S. & Timmermans, M.-L. Arctic Cyclone Activity and the Beaufort High. Journal of\\nClimate 34, 4119–4127 (2021).\\n[64] Peng, L. et al. Role of Intense Arctic Storm in Accelerating Summer Sea Ice Melt: An In Situ\\nObservational Study. Geophysical Research Letters 48, e2021GL092714 (2021).\\n[65] Donges, J. F. et al. Uniﬁed functional network and nonlinear time series analysis for complex systems\\nscience: The pyunicorn package. Chaos 25, 113101 (2015).\\n[66] Dijkstra, H. A., Hern ´andez-Garc´ıa, E., Masoller, C. & Barreiro, M. Networks in climate (Cambridge\\nUniversity Press, 2019).\\n[67] Cohen, J., Foster, J., Barlow, M., Saito, K. & Jones, J. Winter 2009–2010: A case study of an extreme\\nArctic Oscillation event. Geophysical Research Letters 37 (2010).\\n[68] Liu, J., Curry, J. A., Wang, H., Song, M. & Horton, R. M. Impact of declining arctic sea ice on winter\\nsnowfall. Proceedings of the National Academy of Sciences 109, 4074–4079 (2012).\\n[69] Stroeve, J. C. et al. The Arctic’s rapidly shrinking sea ice cover: a research synthesis.Climatic Change\\n110, 1005–1027 (2012).\\n[70] Cvijanovic, I. et al. Future loss of Arctic sea-ice cover could drive a substantial decrease in California’s\\nrainfall. Nat Commun 8, 1947 (2017).\\n[71] Petropoulos, F. et al. Forecasting: theory and practice. International Journal of Forecasting 38, 705–\\n871 (2022).\\n[72] Lenton, T. M. et al. Climate tipping points — too risky to bet against. Nature 575, 592–595 (2019).\\n[73] Hersbach, H. et al. The era5 global reanalysis. Quarterly Journal of the Royal Meteorological Society\\n146, 1999–2049 (2020).\\n[74] Kantelhardt, J. W., Koscielny-Bunde, E., Rego, H. H. A., Havlin, S. & Bunde, A. Detecting long-range\\ncorrelations with detrended ﬂuctuation analysis. Physica A: Statistical Mechanics and its Applications\\n295, 441–454 (2001).\\n[75] Welch, P. The use of fast Fourier transform for the estimation of power spectra: A method based on\\ntime averaging over short, modiﬁed periodograms. IEEE Transactions on Audio and Electroacoustics\\n15, 70–73 (1967).\\n[76] Fan, J., Meng, J., Ashkenazy, Y ., Havlin, S. & Schellnhuber, H. J. Network analysis reveals strongly\\nlocalized impacts of El Ni ˜no. Proceedings of the National Academy of Sciences 114, 7543–7548\\n25'),\n",
       " Document(metadata={'producer': 'pdfTeX-1.40.21', 'creator': 'LaTeX with hyperref', 'creationdate': '2023-02-07T01:49:05+00:00', 'author': '', 'keywords': '', 'moddate': '2023-02-07T01:49:05+00:00', 'ptex.fullbanner': 'This is pdfTeX, Version 3.14159265-2.6-1.40.21 (TeX Live 2020) kpathsea version 6.3.2', 'subject': '', 'title': '', 'trapped': '/False', 'source': '/Users/harinivaranasi/Desktop/Research/sample_document5.pdf', 'total_pages': 26, 'page': 25, 'page_label': '26'}, page_content='(2017).\\n[77] Dijkstra, E. W. A note on two problems in connexion with graphs.Numerische Mathematik 1, 269–271\\n(1959).\\n[78] Zhou, D., Gozolchiani, A., Ashkenazy, Y . & Havlin, S. Teleconnection Paths via Climate Network\\nDirect Link Detection. Physical Review Letters 115, 268501 (2015).\\n26')]"
      ]
     },
     "execution_count": 94,
     "metadata": {},
     "output_type": "execute_result"
    }
   ],
   "source": [
    "load_documents()"
   ]
  },
  {
   "cell_type": "code",
   "execution_count": 96,
   "metadata": {},
   "outputs": [],
   "source": [
    "def create_retriever(documents):\n",
    "    text_splitter = RecursiveCharacterTextSplitter(\n",
    "        chunk_size=1500,\n",
    "        chunk_overlap=200,\n",
    "        separators=[\"\\n\\n\", \"\\n\", \" \"]\n",
    "    )\n",
    "    texts = text_splitter.split_documents(documents)\n",
    "    \n",
    "    embeddings = HuggingFaceEmbeddings(\n",
    "        model_name='sentence-transformers/all-mpnet-base-v2',\n",
    "        model_kwargs={\"device\": \"cpu\"}\n",
    "    )\n",
    "    \n",
    "    db = FAISS.from_documents(texts, embeddings)\n",
    "    db.save_local(\"faiss_index\")\n",
    "    \n",
    "    return db.as_retriever(search_type='mmr', search_kwargs={\"k\": 5})"
   ]
  },
  {
   "cell_type": "code",
   "execution_count": 98,
   "metadata": {},
   "outputs": [],
   "source": [
    "def load_faiss_index():\n",
    "    embeddings = HuggingFaceEmbeddings(\n",
    "        model_name='sentence-transformers/all-mpnet-base-v2',\n",
    "        model_kwargs={\"device\": \"cpu\"}\n",
    "    )\n",
    "    \n",
    "    return FAISS.load_local(\"faiss_index\", embeddings, allow_dangerous_deserialization=True).as_retriever(\n",
    "        search_type='mmr', search_kwargs={\"k\": 5}\n",
    "    )"
   ]
  },
  {
   "cell_type": "code",
   "execution_count": 80,
   "metadata": {},
   "outputs": [
    {
     "data": {
      "text/plain": [
       "'def build_retrieval_qa_chain(retriever):\\n    \\n   # system_prompt = (\\n    #    \"You are a highly knowledgeable environmental scientist.\"\\n     #   \" Use the provided context to answer questions factually and concisely.\"\\n      #  \"The responses should be concise and precise.\"\\n       # \" If the answer cannot be derived from the context, respond with\"\\n        #\" \\'The information is not available in the provided context.\\'\"\\n        #\" Do not add any external information or assumptions.\"\\n        #\" Context: {context}\"\\n   # )\\n        system_prompt = (\\n        \"You are a highly knowledgeable environmental scientist. \"\\n        \"Use the provided context to answer the following four questions factually and concisely. \"\\n        \"Respond only using information found in the context. Do not speculate. \"\\n        \"If the answer cannot be found in the context, use \\'Not available\\'.\\n\\n\"\\n        \"Questions:\\n\"\\n        \"1. What is the name of the data source used in the research?\\n\"\\n        \"2. What are the variables from this source used in the research?\\n\"\\n        \"3. What is the time period covered by the data?\\n\"\\n        \"4. What is the geographical location or coverage of the data?\\n\\n\"\\n        \"Provide your answer in the following structured format:\\n\"\\n        \"{\\n\"\\n        \"  \"data_source\": <name>,\\n\"\\n        \"  \"variables\": [<var1>, <var2>, ...],\\n\"\\n        \"  \"time_period\": <time range>,\\n\"\\n        \"  \"location\": <region>\\n\"\\n        \"}\\n\\n\"\\n        \"Context: {context}\"\\n    )\\n        \\n\\n    model = OllamaLLM(\\n        model=\\'llama3.2\\',\\n        temperature=0.3,\\n        max_tokens=512,\\n        top_p=0.85\\n    )\\n    \\n    prompt = ChatPromptTemplate.from_messages(\\n        [\\n            (\"system\", system_prompt),\\n            (\"human\", \"{input}\"),\\n        ]\\n    )\\n\\n    stuff_chain = create_stuff_documents_chain(model, prompt)\\n\\n    retrieval_chain = create_retrieval_chain(\\n        retriever,\\n        stuff_chain\\n    )\\n\\n    return retrieval_chain'"
      ]
     },
     "execution_count": 80,
     "metadata": {},
     "output_type": "execute_result"
    }
   ],
   "source": [
    "'''def build_retrieval_qa_chain(retriever):\n",
    "    \n",
    "   # system_prompt = (\n",
    "    #    \"You are a highly knowledgeable environmental scientist.\"\n",
    "     #   \" Use the provided context to answer questions factually and concisely.\"\n",
    "      #  \"The responses should be concise and precise.\"\n",
    "       # \" If the answer cannot be derived from the context, respond with\"\n",
    "        #\" 'The information is not available in the provided context.'\"\n",
    "        #\" Do not add any external information or assumptions.\"\n",
    "        #\" Context: {context}\"\n",
    "   # )\n",
    "        system_prompt = (\n",
    "        \"You are a highly knowledgeable environmental scientist. \"\n",
    "        \"Use the provided context to answer the following four questions factually and concisely. \"\n",
    "        \"Respond only using information found in the context. Do not speculate. \"\n",
    "        \"If the answer cannot be found in the context, use 'Not available'.\\n\\n\"\n",
    "        \"Questions:\\n\"\n",
    "        \"1. What is the name of the data source used in the research?\\n\"\n",
    "        \"2. What are the variables from this source used in the research?\\n\"\n",
    "        \"3. What is the time period covered by the data?\\n\"\n",
    "        \"4. What is the geographical location or coverage of the data?\\n\\n\"\n",
    "        \"Provide your answer in the following structured format:\\n\"\n",
    "        \"{\\n\"\n",
    "        \"  \\\"data_source\\\": <name>,\\n\"\n",
    "        \"  \\\"variables\\\": [<var1>, <var2>, ...],\\n\"\n",
    "        \"  \\\"time_period\\\": <time range>,\\n\"\n",
    "        \"  \\\"location\\\": <region>\\n\"\n",
    "        \"}\\n\\n\"\n",
    "        \"Context: {context}\"\n",
    "    )\n",
    "        \n",
    "\n",
    "    model = OllamaLLM(\n",
    "        model='llama3.2',\n",
    "        temperature=0.3,\n",
    "        max_tokens=512,\n",
    "        top_p=0.85\n",
    "    )\n",
    "    \n",
    "    prompt = ChatPromptTemplate.from_messages(\n",
    "        [\n",
    "            (\"system\", system_prompt),\n",
    "            (\"human\", \"{input}\"),\n",
    "        ]\n",
    "    )\n",
    "\n",
    "    stuff_chain = create_stuff_documents_chain(model, prompt)\n",
    "\n",
    "    retrieval_chain = create_retrieval_chain(\n",
    "        retriever,\n",
    "        stuff_chain\n",
    "    )\n",
    "\n",
    "    return retrieval_chain'''"
   ]
  },
  {
   "cell_type": "code",
   "execution_count": 108,
   "metadata": {},
   "outputs": [],
   "source": [
    "def build_retrieval_qa_chain_v2(retriever):\n",
    "    system_prompt = (\n",
    "        \"You are a highly knowledgeable environmental scientist. \"\n",
    "        \"Use the provided context to answer the following four questions factually and concisely. \"\n",
    "        \"Respond only using information found in the context. Do not speculate. \"\n",
    "        \"If the answer cannot be found in the context, use 'Not available'.\\n\\n\"\n",
    "        \"Context: {context}\"\n",
    "    )\n",
    "\n",
    "    model = OllamaLLM(\n",
    "        model='llama3.2',\n",
    "        temperature=0.3,\n",
    "        max_tokens=512,\n",
    "        top_p=0.85\n",
    "    )\n",
    "\n",
    "    prompt = ChatPromptTemplate.from_messages(\n",
    "        [\n",
    "            (\"system\", system_prompt),\n",
    "            (\"human\", \"{input}\")\n",
    "        ]\n",
    "    )\n",
    "\n",
    "    stuff_chain = create_stuff_documents_chain(model, prompt)\n",
    "\n",
    "    retrieval_chain = create_retrieval_chain(\n",
    "        retriever,\n",
    "        stuff_chain\n",
    "    )\n",
    "\n",
    "    return retrieval_chain\n"
   ]
  },
  {
   "cell_type": "code",
   "execution_count": 102,
   "metadata": {},
   "outputs": [],
   "source": [
    "def build_summarization_chain(model):\n",
    "    \"\"\"\n",
    "    Builds a summarization chain using the provided model.\n",
    "\n",
    "    Args:\n",
    "        model: An instance of the language model to perform summarization.\n",
    "\n",
    "    Returns:\n",
    "        A summarization chain ready to process input texts.\n",
    "    \"\"\"\n",
    "   \n",
    "    # Define the summarization prompt\n",
    "    system_prompt = (\n",
    "        \"You are a summarization assistant.\"\n",
    "        \" Summarize the following text into a concise and coherent summary,\"\n",
    "        \" highlighting the most important points. Avoid unnecessary details.\"\n",
    "        \" Text to summarize: {text}\"\n",
    "    )\n",
    "\n",
    "    # Create a chat prompt template\n",
    "    summarization_prompt = ChatPromptTemplate.from_messages(\n",
    "        [\n",
    "            (\"system\", system_prompt),\n",
    "            (\"human\", \"{text}\"),\n",
    "        ]\n",
    "    )\n",
    "\n",
    "    # Create the summarization chain\n",
    "    try:\n",
    "        summarization_chain = LLMChain(\n",
    "            llm=model,\n",
    "            prompt=summarization_prompt\n",
    "        )\n",
    "    except Exception as e:\n",
    "        raise ValueError(\"Failed to create the summarization chain. Ensure the model is correctly configured.\") from e\n",
    "\n",
    "    return summarization_chain"
   ]
  },
  {
   "cell_type": "code",
   "execution_count": 104,
   "metadata": {},
   "outputs": [],
   "source": [
    "def create_retriever():\n",
    "    documents = load_documents()  # Load fresh documents\n",
    "    embeddings = HuggingFaceEmbeddings(\n",
    "        model_name='sentence-transformers/all-mpnet-base-v2',\n",
    "        model_kwargs={\"device\": \"cpu\"}\n",
    "    )\n",
    "    \n",
    "    retriever = FAISS.from_documents(documents, embeddings).as_retriever(\n",
    "        search_type='mmr', search_kwargs={\"k\": 3}\n",
    "    )\n",
    "    \n",
    "    retriever.vectorstore.save_local(\"faiss_index\")  # Save new FAISS index\n",
    "    return retriever"
   ]
  },
  {
   "cell_type": "code",
   "execution_count": 110,
   "metadata": {},
   "outputs": [
    {
     "name": "stdin",
     "output_type": "stream",
     "text": [
      "Type your query here (or type 'exit' to quit):  what are the datasets mentioned\n"
     ]
    },
    {
     "name": "stdout",
     "output_type": "stream",
     "text": [
      "Response: Based on the provided context, I can answer the following questions:\n",
      "\n",
      "1. What datasets are mentioned in the context?\n",
      "\n",
      "The context mentions two datasets:\n",
      "- Source Data (specifically Figs. 2-5)\n",
      "- GitHub repository code (https://github.com/fanjingfang/DAWV)\n",
      "\n",
      "No specific names of other datasets are provided.\n",
      "\n",
      "2. Not available\n",
      "\n",
      "3. Not available\n",
      "\n",
      "4. Not available\n",
      "\n",
      "Source Documents:\n",
      " - Source: /Users/harinivaranasi/Desktop/Research/sample_document5.pdf, Page: 12\n",
      " - Source: /Users/harinivaranasi/Desktop/Research/sample_document5.pdf, Page: 15\n",
      " - Source: /Users/harinivaranasi/Desktop/Research/sample_document5.pdf, Page: 18\n"
     ]
    },
    {
     "name": "stdin",
     "output_type": "stream",
     "text": [
      "Type your query here (or type 'exit' to quit):  what are the datasets used in the research\n"
     ]
    },
    {
     "name": "stdout",
     "output_type": "stream",
     "text": [
      "Response: The context does not explicitly mention the specific datasets used in the research. However, based on the information provided, it can be inferred that the datasets are related to Arctic sea ice cover and weather variability.\n",
      "\n",
      "One dataset mentioned is the \"Sea Ice Index\", which appears to be a measure of the area with at least 15% ice cover. Another dataset is the \"WACF\" (Weather And Climate Forecasting) and \"WPS\" ( Weather Pattern Simulation), which seem to be related to daily sea ice cover data.\n",
      "\n",
      "Additionally, there are references to other datasets and time series analysis methods, such as:\n",
      "\n",
      "* [49] Cohen et al. (2020)\n",
      "* [50] Pincus (1995)\n",
      "* [51] Richman & Moorman (2000)\n",
      "* [52] Costa et al. (2005)\n",
      "* [53] Peng et al. (1995)\n",
      "* [54] Livina & Lenton (2007)\n",
      "* [55] Grassberger & Procaccia (1983)\n",
      "* [56] Wolf et al. (1985)\n",
      "* [57] Box et al. (2015)\n",
      "* [58] Stoica et al. (2005)\n",
      "* [59] Pomeau & Manneville (1980)\n",
      "* [60] Thompson & Wallace (2001)\n",
      "* [61] Comiso (2012)\n",
      "* [62] Day & Hodges (2018)\n",
      "\n",
      "However, the specific datasets used in this research are not explicitly mentioned.\n",
      "\n",
      "Source Documents:\n",
      " - Source: /Users/harinivaranasi/Desktop/Research/sample_document5.pdf, Page: 12\n",
      " - Source: /Users/harinivaranasi/Desktop/Research/sample_document5.pdf, Page: 15\n",
      " - Source: /Users/harinivaranasi/Desktop/Research/sample_document5.pdf, Page: 23\n"
     ]
    },
    {
     "name": "stdin",
     "output_type": "stream",
     "text": [
      "Type your query here (or type 'exit' to quit):  what are the variables used in the research\n"
     ]
    },
    {
     "name": "stdout",
     "output_type": "stream",
     "text": [
      "Response: Based on the provided context, here are the answers to your questions:\n",
      "\n",
      "1. What are the variables used in the research?\n",
      "\n",
      "The variables used in the research include:\n",
      "- AO (Arctic Oscillation)\n",
      "- WACF (Weather Anomaly at 850hPa pressure level)\n",
      "- WPS (Weather Pattern Index)\n",
      "\n",
      "2. Not available\n",
      "\n",
      "3. Not available\n",
      "\n",
      "4. Not available\n",
      "\n",
      "Source Documents:\n",
      " - Source: /Users/harinivaranasi/Desktop/Research/sample_document5.pdf, Page: 11\n",
      " - Source: /Users/harinivaranasi/Desktop/Research/sample_document5.pdf, Page: 20\n",
      " - Source: /Users/harinivaranasi/Desktop/Research/sample_document5.pdf, Page: 18\n"
     ]
    },
    {
     "name": "stdin",
     "output_type": "stream",
     "text": [
      "Type your query here (or type 'exit' to quit):  what are the variables used\n"
     ]
    },
    {
     "name": "stdout",
     "output_type": "stream",
     "text": [
      "Response: Based on the provided context, I can identify the following variables:\n",
      "\n",
      "1. AO (Arctic Oscillation)\n",
      "2. WACF (Weather Activity Climate Feedback)\n",
      "3. WPS (Weather Pattern Similarity)\n",
      "\n",
      "These variables are mentioned in the context as part of the analysis and discussion related to climate variability and teleconnection paths.\n",
      "\n",
      "Source Documents:\n",
      " - Source: /Users/harinivaranasi/Desktop/Research/sample_document5.pdf, Page: 11\n",
      " - Source: /Users/harinivaranasi/Desktop/Research/sample_document5.pdf, Page: 18\n",
      " - Source: /Users/harinivaranasi/Desktop/Research/sample_document5.pdf, Page: 20\n"
     ]
    },
    {
     "name": "stdin",
     "output_type": "stream",
     "text": [
      "Type your query here (or type 'exit' to quit):  give me all the variables used\n"
     ]
    },
    {
     "name": "stdout",
     "output_type": "stream",
     "text": [
      "Response: Here are the variables used in the context:\n",
      "\n",
      "1. t (days) - time variable\n",
      "2. a - parameter in equation zx = 0.2 * x + 0.8u\n",
      "3. x - variable in equations zx = 0.2 * x + 0.8u and zy = 0.2 * y + 0.8u\n",
      "4. u - variable in equations zx = 0.2 * x + 0.8u and zy = 0.2 * y + 0.8u\n",
      "5. ut - variable in equation ut + 1 = 3.8ut(1 ut)\n",
      "6. WACF - absolute auto-correlation function value\n",
      "7. WPS - normalized power spectrum density value\n",
      "8. b - period (days) variable\n",
      "9. c - autocorrelation function of WACF value\n",
      "10. rd WACF - correlation coefficient of WACF values\n",
      "11. re WPS - correlation coefficient of WPS values\n",
      "12. f - year variable\n",
      "13. AO - Arctic Oscillation index\n",
      "14. Cov(X,Y) - covariance between variables X and Y\n",
      "15. Var(X) - variance of variable X\n",
      "16. C(τ) - autocorrelation function value at time lag τ\n",
      "17. τ∗ - characteristic time scale for short-range memory\n",
      "18. γ - exponent in power-law decline of C(τ)\n",
      "19. WACF - advanced autocorrelation function value (as defined in equation 8)\n",
      "\n",
      "Note that some variables are not explicitly mentioned in the text, but can be inferred from the equations and context provided.\n",
      "\n",
      "Source Documents:\n",
      " - Source: /Users/harinivaranasi/Desktop/Research/sample_document5.pdf, Page: 10\n",
      " - Source: /Users/harinivaranasi/Desktop/Research/sample_document5.pdf, Page: 18\n",
      " - Source: /Users/harinivaranasi/Desktop/Research/sample_document5.pdf, Page: 15\n"
     ]
    },
    {
     "name": "stdin",
     "output_type": "stream",
     "text": [
      "Type your query here (or type 'exit' to quit):  what are the sources of dataset mentioned\n"
     ]
    },
    {
     "name": "stdout",
     "output_type": "stream",
     "text": [
      "Response: Based on the provided context, I can answer the following questions:\n",
      "\n",
      "1. What is the source of the dataset mentioned in Figure 4?\n",
      "\n",
      "Not available.\n",
      "\n",
      "2. What is the source of the dataset used for the analysis (Source Data) and other findings of this study?\n",
      "\n",
      "The data represented in Figs. 2–5 are available as Source Data, but the specific sources of these datasets are not mentioned in the context.\n",
      "\n",
      "3. What is the source of the C++ and Python codes used for the analysis?\n",
      "\n",
      "The C++ and Python codes used for the analysis are available on GitHub: https://github.com/fanjingfang/DAWV.\n",
      "\n",
      "4. What is the source of the dataset mentioned in the introduction (e.g., air temperature at 850hPa pressure level)?\n",
      "\n",
      "Not available.\n",
      "\n",
      "Source Documents:\n",
      " - Source: /Users/harinivaranasi/Desktop/Research/sample_document5.pdf, Page: 12\n",
      " - Source: /Users/harinivaranasi/Desktop/Research/sample_document5.pdf, Page: 15\n",
      " - Source: /Users/harinivaranasi/Desktop/Research/sample_document5.pdf, Page: 18\n"
     ]
    },
    {
     "name": "stdin",
     "output_type": "stream",
     "text": [
      "Type your query here (or type 'exit' to quit):  exit\n"
     ]
    },
    {
     "name": "stdout",
     "output_type": "stream",
     "text": [
      "Exiting the chatbot. Goodbye!\n"
     ]
    }
   ],
   "source": [
    "def classify_query(query):\n",
    "    \"\"\"\n",
    "    Classifies whether the query is for summarization or QA.\n",
    "    Args:\n",
    "        query (str): The user's input query.\n",
    "\n",
    "    Returns:\n",
    "        str: \"summarization\" or \"qa\" based on the query type.\n",
    "    \"\"\"\n",
    "    keywords = [\"summarize\", \"overview\", \"brief\", \"condense\"]  # Add more if needed\n",
    "    for keyword in keywords:\n",
    "        if keyword in query.lower():\n",
    "            return \"summarization\"\n",
    "    return \"qa\"\n",
    "\n",
    "def main():\n",
    "    # Load or create the retriever\n",
    "    #retriever = load_faiss_index() if os.path.exists(\"faiss_index\") else create_retriever(load_documents())\n",
    "    if os.path.exists(\"faiss_index\"):\n",
    "        os.system(\"rm -r faiss_index\")  # Remove the previous FAISS index\n",
    "\n",
    "    retriever = create_retriever()\n",
    "    # Build the QA and summarization chains\n",
    "    qa_chain = build_retrieval_qa_chain_v2(retriever)\n",
    "    model = OllamaLLM(model='llama3.2', temperature=0.3, max_tokens=256, top_p=0.9)\n",
    "    summarization_chain = build_summarization_chain(model)\n",
    "\n",
    "    while True:\n",
    "        user_query = input(\"Type your query here (or type 'exit' to quit): \")\n",
    "\n",
    "        if user_query.lower() == 'exit':\n",
    "            print(\"Exiting the chatbot. Goodbye!\")\n",
    "            break\n",
    "\n",
    "        if user_query:\n",
    "            # Classify the query\n",
    "            query_type = classify_query(user_query)\n",
    "\n",
    "            try:\n",
    "                if query_type == \"summarization\":\n",
    "                    # Handle summarization\n",
    "                    documents = retriever.get_relevant_documents(user_query)  # Retrieve relevant document(s)\n",
    "                    if documents:\n",
    "                        text_to_summarize = documents[0].page_content  # Get the main content\n",
    "                        summary = summarization_chain.run({\"text\": text_to_summarize})\n",
    "                        print(\"Summary:\", summary)\n",
    "                    else:\n",
    "                        print(\"No relevant documents found to summarize.\")\n",
    "\n",
    "                elif query_type == \"qa\":\n",
    "                    # Handle QA\n",
    "                    response = qa_chain.invoke({\"input\": user_query})\n",
    "\n",
    "                    # Print the answer\n",
    "                    if 'answer' in response:\n",
    "                        print(\"Response:\", response['answer'])\n",
    "\n",
    "                    # Print source documents\n",
    "                    if 'context' in response:\n",
    "                        print(\"\\nSource Documents:\")\n",
    "                        for doc in response['context']:\n",
    "                            print(f\" - Source: {doc.metadata['source']}, Page: {doc.metadata.get('page', 'N/A')}\")\n",
    "                else:\n",
    "                    print(\"Unable to classify the query.\")\n",
    "\n",
    "            except Exception as e:\n",
    "                print(\"An error occurred while processing your query:\", str(e))\n",
    "        else:\n",
    "            print(\"Please enter a valid query.\")\n",
    "\n",
    "if __name__ == \"__main__\":\n",
    "    main()\n"
   ]
  },
  {
   "cell_type": "code",
   "execution_count": null,
   "metadata": {},
   "outputs": [],
   "source": []
  }
 ],
 "metadata": {
  "kernelspec": {
   "display_name": "Python (xeus-python)",
   "language": "python",
   "name": "xpython"
  },
  "language_info": {
   "codemirror_mode": {
    "name": "ipython",
    "version": 3
   },
   "file_extension": ".py",
   "mimetype": "text/x-python",
   "name": "python",
   "nbconvert_exporter": "python",
   "pygments_lexer": "ipython3",
   "version": "3.13.2"
  }
 },
 "nbformat": 4,
 "nbformat_minor": 4
}
